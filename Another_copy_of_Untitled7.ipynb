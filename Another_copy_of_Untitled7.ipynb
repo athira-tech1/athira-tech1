{
  "nbformat": 4,
  "nbformat_minor": 0,
  "metadata": {
    "colab": {
      "provenance": [],
      "authorship_tag": "ABX9TyP0VE4EcxzhSDHbWFvNQXx/",
      "include_colab_link": true
    },
    "kernelspec": {
      "name": "python3",
      "display_name": "Python 3"
    },
    "language_info": {
      "name": "python"
    }
  },
  "cells": [
    {
      "cell_type": "markdown",
      "metadata": {
        "id": "view-in-github",
        "colab_type": "text"
      },
      "source": [
        "<a href=\"https://colab.research.google.com/github/athira-tech1/athira-tech1/blob/main/Another_copy_of_Untitled7.ipynb\" target=\"_parent\"><img src=\"https://colab.research.google.com/assets/colab-badge.svg\" alt=\"Open In Colab\"/></a>"
      ]
    },
    {
      "cell_type": "code",
      "execution_count": null,
      "metadata": {
        "colab": {
          "base_uri": "https://localhost:8080/"
        },
        "id": "UblFm8asDeSq",
        "outputId": "1d67f357-eb39-41c4-d838-2695e88b4cd1"
      },
      "outputs": [
        {
          "output_type": "stream",
          "name": "stdout",
          "text": [
            "Collecting scapy\n",
            "  Downloading scapy-2.6.0-py3-none-any.whl.metadata (5.6 kB)\n",
            "Downloading scapy-2.6.0-py3-none-any.whl (2.4 MB)\n",
            "\u001b[2K   \u001b[90m━━━━━━━━━━━━━━━━━━━━━━━━━━━━━━━━━━━━━━━━\u001b[0m \u001b[32m2.4/2.4 MB\u001b[0m \u001b[31m26.9 MB/s\u001b[0m eta \u001b[36m0:00:00\u001b[0m\n",
            "\u001b[?25hInstalling collected packages: scapy\n",
            "Successfully installed scapy-2.6.0\n"
          ]
        }
      ],
      "source": [
        "pip install scapy\n"
      ]
    },
    {
      "cell_type": "code",
      "source": [
        "from scapy.all import sniff\n",
        "\n",
        "# Define a packet handler function to analyze each packet\n",
        "def packet_handler(packet):\n",
        "    # Print summary of the packet\n",
        "    print(packet.summary())\n",
        "\n",
        "    # For detailed inspection, you can use packet.show()\n",
        "    # packet.show()\n",
        "\n",
        "# Capture network packets on interface 'eth0'\n",
        "# You can change the interface as per your system (e.g., 'wlan0' for WiFi)\n",
        "sniff(iface=\"eth0\", prn=packet_handler, count=10)\n",
        "\n",
        "\n"
      ],
      "metadata": {
        "colab": {
          "base_uri": "https://localhost:8080/"
        },
        "id": "Y831BYiUDmn4",
        "outputId": "6621163c-292d-4505-963f-f0fcf8dacf8c"
      },
      "execution_count": null,
      "outputs": [
        {
          "output_type": "stream",
          "name": "stdout",
          "text": [
            "Ether / IP / TCP 172.28.0.12:8080 > 172.28.0.1:56314 PA / Raw\n",
            "Ether / IP / TCP 172.28.0.1:56314 > 172.28.0.12:8080 A\n",
            "Ether / IP / TCP 172.28.0.12:8080 > 172.28.0.1:54310 PA / Raw\n",
            "Ether / IP / TCP 172.28.0.1:54310 > 172.28.0.12:8080 A\n",
            "Ether / IP / TCP 172.28.0.1:56314 > 172.28.0.12:8080 PA / Raw\n",
            "Ether / IP / TCP 172.28.0.12:8080 > 172.28.0.1:56314 A\n",
            "Ether / IP / TCP 172.28.0.1:54310 > 172.28.0.12:8080 PA / Raw\n",
            "Ether / IP / TCP 172.28.0.12:8080 > 172.28.0.1:54310 A\n",
            "Ether / IP / TCP 172.28.0.12:8080 > 172.28.0.1:54310 PA / Raw\n",
            "Ether / IP / TCP 172.28.0.1:54310 > 172.28.0.12:8080 A\n"
          ]
        },
        {
          "output_type": "execute_result",
          "data": {
            "text/plain": [
              "<Sniffed: TCP:10 UDP:0 ICMP:0 Other:0>"
            ]
          },
          "metadata": {},
          "execution_count": 5
        }
      ]
    },
    {
      "cell_type": "code",
      "source": [
        "def packet_handler(packet):\n",
        "    if packet.haslayer('IP'):\n",
        "        print(f\"Source IP: {packet['IP'].src}\")\n",
        "        print(f\"Destination IP: {packet['IP'].dst}\")\n",
        "\n",
        "    if packet.haslayer('TCP'):\n",
        "        print(f\"Source Port: {packet['TCP'].sport}\")\n",
        "        print(f\"Destination Port: {packet['TCP'].dport}\")\n"
      ],
      "metadata": {
        "id": "3lWG-QAnEEHR"
      },
      "execution_count": null,
      "outputs": []
    }
  ]
}