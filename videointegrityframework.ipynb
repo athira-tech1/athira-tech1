{
  "nbformat": 4,
  "nbformat_minor": 0,
  "metadata": {
    "colab": {
      "provenance": [],
      "mount_file_id": "1Xs-xSLFCzdl_gtSyAVM_fSAgAHdMMnwi",
      "authorship_tag": "ABX9TyOgg2Z3/yg2FcNlyNO0dlCN",
      "include_colab_link": true
    },
    "kernelspec": {
      "name": "python3",
      "display_name": "Python 3"
    },
    "language_info": {
      "name": "python"
    }
  },
  "cells": [
    {
      "cell_type": "markdown",
      "metadata": {
        "id": "view-in-github",
        "colab_type": "text"
      },
      "source": [
        "<a href=\"https://colab.research.google.com/github/athira-tech1/athira-tech1/blob/main/videointegrityframework.ipynb\" target=\"_parent\"><img src=\"https://colab.research.google.com/assets/colab-badge.svg\" alt=\"Open In Colab\"/></a>"
      ]
    },
    {
      "cell_type": "code",
      "execution_count": null,
      "metadata": {
        "colab": {
          "base_uri": "https://localhost:8080/"
        },
        "id": "4vSttCvBaK39",
        "outputId": "8f7ef66c-01a6-4550-c412-1101a01e16c3"
      },
      "outputs": [
        {
          "output_type": "stream",
          "name": "stdout",
          "text": [
            "Requirement already satisfied: opencv-python in /usr/local/lib/python3.10/dist-packages (4.10.0.84)\n",
            "Requirement already satisfied: cryptography in /usr/local/lib/python3.10/dist-packages (43.0.3)\n",
            "Requirement already satisfied: numpy>=1.21.2 in /usr/local/lib/python3.10/dist-packages (from opencv-python) (1.26.4)\n",
            "Requirement already satisfied: cffi>=1.12 in /usr/local/lib/python3.10/dist-packages (from cryptography) (1.17.1)\n",
            "Requirement already satisfied: pycparser in /usr/local/lib/python3.10/dist-packages (from cffi>=1.12->cryptography) (2.22)\n"
          ]
        }
      ],
      "source": [
        "!pip install opencv-python cryptography\n"
      ]
    },
    {
      "cell_type": "code",
      "source": [
        "from google.colab import files\n",
        "uploaded = files.upload()\n"
      ],
      "metadata": {
        "colab": {
          "base_uri": "https://localhost:8080/",
          "height": 73
        },
        "id": "ZmonE9FvdoHm",
        "outputId": "d5c7aa29-7161-4e23-952e-1afd6950b026"
      },
      "execution_count": null,
      "outputs": [
        {
          "output_type": "display_data",
          "data": {
            "text/plain": [
              "<IPython.core.display.HTML object>"
            ],
            "text/html": [
              "\n",
              "     <input type=\"file\" id=\"files-075d5dc6-5307-488f-a227-2df94588af92\" name=\"files[]\" multiple disabled\n",
              "        style=\"border:none\" />\n",
              "     <output id=\"result-075d5dc6-5307-488f-a227-2df94588af92\">\n",
              "      Upload widget is only available when the cell has been executed in the\n",
              "      current browser session. Please rerun this cell to enable.\n",
              "      </output>\n",
              "      <script>// Copyright 2017 Google LLC\n",
              "//\n",
              "// Licensed under the Apache License, Version 2.0 (the \"License\");\n",
              "// you may not use this file except in compliance with the License.\n",
              "// You may obtain a copy of the License at\n",
              "//\n",
              "//      http://www.apache.org/licenses/LICENSE-2.0\n",
              "//\n",
              "// Unless required by applicable law or agreed to in writing, software\n",
              "// distributed under the License is distributed on an \"AS IS\" BASIS,\n",
              "// WITHOUT WARRANTIES OR CONDITIONS OF ANY KIND, either express or implied.\n",
              "// See the License for the specific language governing permissions and\n",
              "// limitations under the License.\n",
              "\n",
              "/**\n",
              " * @fileoverview Helpers for google.colab Python module.\n",
              " */\n",
              "(function(scope) {\n",
              "function span(text, styleAttributes = {}) {\n",
              "  const element = document.createElement('span');\n",
              "  element.textContent = text;\n",
              "  for (const key of Object.keys(styleAttributes)) {\n",
              "    element.style[key] = styleAttributes[key];\n",
              "  }\n",
              "  return element;\n",
              "}\n",
              "\n",
              "// Max number of bytes which will be uploaded at a time.\n",
              "const MAX_PAYLOAD_SIZE = 100 * 1024;\n",
              "\n",
              "function _uploadFiles(inputId, outputId) {\n",
              "  const steps = uploadFilesStep(inputId, outputId);\n",
              "  const outputElement = document.getElementById(outputId);\n",
              "  // Cache steps on the outputElement to make it available for the next call\n",
              "  // to uploadFilesContinue from Python.\n",
              "  outputElement.steps = steps;\n",
              "\n",
              "  return _uploadFilesContinue(outputId);\n",
              "}\n",
              "\n",
              "// This is roughly an async generator (not supported in the browser yet),\n",
              "// where there are multiple asynchronous steps and the Python side is going\n",
              "// to poll for completion of each step.\n",
              "// This uses a Promise to block the python side on completion of each step,\n",
              "// then passes the result of the previous step as the input to the next step.\n",
              "function _uploadFilesContinue(outputId) {\n",
              "  const outputElement = document.getElementById(outputId);\n",
              "  const steps = outputElement.steps;\n",
              "\n",
              "  const next = steps.next(outputElement.lastPromiseValue);\n",
              "  return Promise.resolve(next.value.promise).then((value) => {\n",
              "    // Cache the last promise value to make it available to the next\n",
              "    // step of the generator.\n",
              "    outputElement.lastPromiseValue = value;\n",
              "    return next.value.response;\n",
              "  });\n",
              "}\n",
              "\n",
              "/**\n",
              " * Generator function which is called between each async step of the upload\n",
              " * process.\n",
              " * @param {string} inputId Element ID of the input file picker element.\n",
              " * @param {string} outputId Element ID of the output display.\n",
              " * @return {!Iterable<!Object>} Iterable of next steps.\n",
              " */\n",
              "function* uploadFilesStep(inputId, outputId) {\n",
              "  const inputElement = document.getElementById(inputId);\n",
              "  inputElement.disabled = false;\n",
              "\n",
              "  const outputElement = document.getElementById(outputId);\n",
              "  outputElement.innerHTML = '';\n",
              "\n",
              "  const pickedPromise = new Promise((resolve) => {\n",
              "    inputElement.addEventListener('change', (e) => {\n",
              "      resolve(e.target.files);\n",
              "    });\n",
              "  });\n",
              "\n",
              "  const cancel = document.createElement('button');\n",
              "  inputElement.parentElement.appendChild(cancel);\n",
              "  cancel.textContent = 'Cancel upload';\n",
              "  const cancelPromise = new Promise((resolve) => {\n",
              "    cancel.onclick = () => {\n",
              "      resolve(null);\n",
              "    };\n",
              "  });\n",
              "\n",
              "  // Wait for the user to pick the files.\n",
              "  const files = yield {\n",
              "    promise: Promise.race([pickedPromise, cancelPromise]),\n",
              "    response: {\n",
              "      action: 'starting',\n",
              "    }\n",
              "  };\n",
              "\n",
              "  cancel.remove();\n",
              "\n",
              "  // Disable the input element since further picks are not allowed.\n",
              "  inputElement.disabled = true;\n",
              "\n",
              "  if (!files) {\n",
              "    return {\n",
              "      response: {\n",
              "        action: 'complete',\n",
              "      }\n",
              "    };\n",
              "  }\n",
              "\n",
              "  for (const file of files) {\n",
              "    const li = document.createElement('li');\n",
              "    li.append(span(file.name, {fontWeight: 'bold'}));\n",
              "    li.append(span(\n",
              "        `(${file.type || 'n/a'}) - ${file.size} bytes, ` +\n",
              "        `last modified: ${\n",
              "            file.lastModifiedDate ? file.lastModifiedDate.toLocaleDateString() :\n",
              "                                    'n/a'} - `));\n",
              "    const percent = span('0% done');\n",
              "    li.appendChild(percent);\n",
              "\n",
              "    outputElement.appendChild(li);\n",
              "\n",
              "    const fileDataPromise = new Promise((resolve) => {\n",
              "      const reader = new FileReader();\n",
              "      reader.onload = (e) => {\n",
              "        resolve(e.target.result);\n",
              "      };\n",
              "      reader.readAsArrayBuffer(file);\n",
              "    });\n",
              "    // Wait for the data to be ready.\n",
              "    let fileData = yield {\n",
              "      promise: fileDataPromise,\n",
              "      response: {\n",
              "        action: 'continue',\n",
              "      }\n",
              "    };\n",
              "\n",
              "    // Use a chunked sending to avoid message size limits. See b/62115660.\n",
              "    let position = 0;\n",
              "    do {\n",
              "      const length = Math.min(fileData.byteLength - position, MAX_PAYLOAD_SIZE);\n",
              "      const chunk = new Uint8Array(fileData, position, length);\n",
              "      position += length;\n",
              "\n",
              "      const base64 = btoa(String.fromCharCode.apply(null, chunk));\n",
              "      yield {\n",
              "        response: {\n",
              "          action: 'append',\n",
              "          file: file.name,\n",
              "          data: base64,\n",
              "        },\n",
              "      };\n",
              "\n",
              "      let percentDone = fileData.byteLength === 0 ?\n",
              "          100 :\n",
              "          Math.round((position / fileData.byteLength) * 100);\n",
              "      percent.textContent = `${percentDone}% done`;\n",
              "\n",
              "    } while (position < fileData.byteLength);\n",
              "  }\n",
              "\n",
              "  // All done.\n",
              "  yield {\n",
              "    response: {\n",
              "      action: 'complete',\n",
              "    }\n",
              "  };\n",
              "}\n",
              "\n",
              "scope.google = scope.google || {};\n",
              "scope.google.colab = scope.google.colab || {};\n",
              "scope.google.colab._files = {\n",
              "  _uploadFiles,\n",
              "  _uploadFilesContinue,\n",
              "};\n",
              "})(self);\n",
              "</script> "
            ]
          },
          "metadata": {}
        },
        {
          "output_type": "stream",
          "name": "stdout",
          "text": [
            "Saving SampleVideo_1280x720_2mb.mp4 to SampleVideo_1280x720_2mb.mp4\n"
          ]
        }
      ]
    },
    {
      "cell_type": "code",
      "source": [
        "import cv2\n",
        "import hashlib\n",
        "\n",
        "def extract_and_hash_frames(video_path):\n",
        "    # Open the video file\n",
        "    video = cv2.VideoCapture(video_path)\n",
        "    frame_hashes = []\n",
        "    frame_count = 0\n",
        "\n",
        "    # Read and process each frame\n",
        "    while video.isOpened():\n",
        "        ret, frame = video.read()\n",
        "\n",
        "        if not ret:\n",
        "            break  # Exit the loop if no more frames are found\n",
        "\n",
        "        # Convert the frame to JPEG format in memory\n",
        "        frame_bytes = cv2.imencode('.jpg', frame)[1].tobytes()\n",
        "\n",
        "        # Generate SHA-256 hash of the frame\n",
        "        frame_hash = hashlib.sha256(frame_bytes).hexdigest()\n",
        "\n",
        "        # Store the frame hash\n",
        "        frame_hashes.append((frame_count, frame_hash))\n",
        "        frame_count += 1\n",
        "\n",
        "    # Release the video capture object\n",
        "    video.release()\n",
        "\n",
        "    # Return the list of frame hashes\n",
        "    return frame_hashes\n",
        "\n",
        "# Specify the video path\n",
        "video_path = 'SampleVideo_1280x720_2mb.mp4'\n",
        "\n",
        "# Run the function and get the hashes\n",
        "frame_hashes = extract_and_hash_frames(video_path)\n",
        "\n",
        "# Display the frame hashes\n",
        "for frame_number, frame_hash in frame_hashes[:5]:  # Displaying the first 5 for brevity\n",
        "    print(f\"Frame {frame_number}: Hash = {frame_hash}\")\n"
      ],
      "metadata": {
        "colab": {
          "base_uri": "https://localhost:8080/"
        },
        "id": "YWrc1kAhfpOc",
        "outputId": "653e72b5-1314-484e-91c9-8e607c7d46fd"
      },
      "execution_count": null,
      "outputs": [
        {
          "output_type": "stream",
          "name": "stdout",
          "text": [
            "Frame 0: Hash = aaa510d3f8ecf25fd42c8de2d77adb67db5bd91f10cb8e4bef8a93b4cc2902bb\n",
            "Frame 1: Hash = c25636809722889068310ad26fd5aa9016f6e8f1889d5aced5b958f114a5e293\n",
            "Frame 2: Hash = 027eb9fba393e612ce11c1bc28ea40a41cff01c6fa0f6e72b1a70a2f33de6896\n",
            "Frame 3: Hash = 72c5e06ed26dafd2593acb1bcac2a323244a5bd7a6eb86a5aa5872ae21fa7225\n",
            "Frame 4: Hash = 1b6576306b75bd80c05b2af74149250c3ceab6fca29f67d25b4f4c017eaa8af9\n"
          ]
        }
      ]
    },
    {
      "cell_type": "code",
      "source": [
        "from cryptography.hazmat.primitives import hashes\n",
        "from cryptography.hazmat.primitives.asymmetric import rsa, padding\n",
        "from cryptography.hazmat.primitives import serialization\n",
        "\n",
        "# Generate RSA keys (for demonstration; in practice, securely load existing keys)\n",
        "private_key = rsa.generate_private_key(public_exponent=65537, key_size=2048)\n",
        "public_key = private_key.public_key()\n",
        "\n",
        "def sign_hashes(frame_hashes, private_key):\n",
        "    signed_hashes = []\n",
        "    for frame_hash in frame_hashes:\n",
        "        signature = private_key.sign(\n",
        "            frame_hash.encode(),\n",
        "            padding.PSS(\n",
        "                mgf=padding.MGF1(hashes.SHA256()),\n",
        "                salt_length=padding.PSS.MAX_LENGTH\n",
        "            ),\n",
        "            hashes.SHA256()\n",
        "        )\n",
        "        signed_hashes.append((frame_hash, signature))\n",
        "    return signed_hashes\n"
      ],
      "metadata": {
        "id": "v0yjU8D1gFZS"
      },
      "execution_count": null,
      "outputs": []
    },
    {
      "cell_type": "code",
      "source": [
        "def verify_frame_hashes(signed_hashes, public_key):\n",
        "    for frame_hash, signature in signed_hashes:\n",
        "        try:\n",
        "            public_key.verify(\n",
        "                signature,\n",
        "                frame_hash.encode(),\n",
        "                padding.PSS(\n",
        "                    mgf=padding.MGF1(hashes.SHA256()),\n",
        "                    salt_length=padding.PSS.MAX_LENGTH\n",
        "                ),\n",
        "                hashes.SHA256()\n",
        "            )\n",
        "        except:\n",
        "            print(\"Frame hash verification failed!\")\n",
        "            return False\n",
        "    print(\"All frames verified successfully.\")\n",
        "    return True\n"
      ],
      "metadata": {
        "id": "52wOvtTigLwK"
      },
      "execution_count": null,
      "outputs": []
    }
  ]
}